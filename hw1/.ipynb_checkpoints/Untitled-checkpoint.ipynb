{
 "cells": [
  {
   "cell_type": "markdown",
   "metadata": {},
   "source": [
    "# Домашнее задание №1\n",
    "\n",
    "Осторожно: ОГРОМНЫЕ комментарии на РУССКОМ.  \n",
    "Кошмар, простите, я не хотел, правда, но спать хотелось очень.  \n",
    "  \n",
    "Больше не буду!  "
   ]
  },
  {
   "cell_type": "code",
   "execution_count": 1,
   "metadata": {},
   "outputs": [],
   "source": [
    "import random"
   ]
  },
  {
   "cell_type": "markdown",
   "metadata": {},
   "source": [
    "## Class: Team\n",
    "\n",
    "Класс команд - обобщает и собирает информацию, необходимую для вывода.  \n",
    "Ну и релизует методы для вывода на экран в табличном/читаемом виде.  \n",
    "Также тут хранятся ссылки на все матчи команды в виде словаря.  "
   ]
  },
  {
   "cell_type": "code",
   "execution_count": 2,
   "metadata": {},
   "outputs": [],
   "source": [
    "class Team:\n",
    "    \n",
    "    idx = 0\n",
    "    \n",
    "    # Инициализируем с названием, либо с идентификатором по-умолчанию\n",
    "    def __init__(self, name = \"Team-\"+str(idx)):\n",
    "        self.name = name\n",
    "        self.clear()\n",
    "        Team.idx += 1\n",
    "        \n",
    "    # Перегрузить сравнение нужно было чтобы отсортировать список\n",
    "    def __lt__(self, other):\n",
    "        return self.points < other.points\n",
    "        \n",
    "    def clear(self):\n",
    "        self.points = 0   # Количество очков команды\n",
    "        self.bolls = 0    # Количество забитых голов\n",
    "        self.falls = 0    # Количество пропущенных голов\n",
    "        self.wins = 0     # Количество побед\n",
    "        self.loses = 0    # Количество поражений\n",
    "        self.draws = 0    # Количество ничьих\n",
    "        self.matches = {} # Список ссылочек на все матчи команды\n",
    "        return self\n",
    "    \n",
    "    # Отобразим все матчи команды\n",
    "    def display(self):\n",
    "        print(self.__repr__(), \"\\n\")\n",
    "        for _, match in self.matches.items():\n",
    "            print(match)\n",
    "    \n",
    "    # Для \"человекочитаемого\" вывода списка (можно допилить вывод по передаваемому шаблону)\n",
    "    def __repr__(self):\n",
    "        template = \"Team: %17s {Points: %d, Wins: %d, Loses: %d, Draws: %d, Goals: %d, Fails: %d}\"\n",
    "        return template % (self.name, self.points, self.wins, self.loses, self.draws, self.bolls, self.falls)\n",
    "        \n",
    "    # Для табличного вывода на экран (можно допилить вывод по передаваемому шаблону)\n",
    "    def __str__(self):\n",
    "        template = \"%17s\\t %d\\t %d\\t %d\\t %d\\t %d\\t %d\"\n",
    "        return template % (self.name, self.points, self.wins, self.loses, self.draws, self.bolls, self.falls)"
   ]
  },
  {
   "cell_type": "markdown",
   "metadata": {},
   "source": [
    "## Class: Match\n",
    "\n",
    "Cоставной блок любого турнира - матч. Можно было обойтись чем-то более простым.  \n",
    "Однако, так можно быстро перестроить структуру программы и это большой плюс.  \n",
    "Например, устроить чемпионат на выбывание - хоккейный чемпионат мира типа.  \n",
    "Пункт дзена №9 - **Although practicality beats purity**.  "
   ]
  },
  {
   "cell_type": "code",
   "execution_count": 3,
   "metadata": {},
   "outputs": [],
   "source": [
    "class Match:\n",
    "    \n",
    "    idx = 0\n",
    "    \n",
    "    def __init__(self, teams_list):\n",
    "        self.teams = teams_list # Список команд, принимающих участие в турнире\n",
    "        self.bolls = []         # Список соответсвующих забитых голов (Ну или чего-то еще?)\n",
    "        self.idx = Match.idx    # На всякий случай - для удобства уникальный номер матча\n",
    "        Match.idx += 1          # Точно-точно уникальный\n",
    "    \n",
    "    def play(self, is_printable = False):\n",
    "        # Да, знаю, что можно проще и обойтись всего одной if-кой и одним проходом.\n",
    "        # Но это же таааак дико скучно. Поэтому сделал для n-командных матчей.\n",
    "        # (Такое реально бывает - например, матчи по StarCraft бывают для 3х команд сразу)\n",
    "        self.bolls = [random.randint(0, 9) for _ in self.teams]\n",
    "        win_bolls = max(self.bolls)\n",
    "        win_id = self.bolls.index(win_bolls)\n",
    "        \n",
    "        # P.S. Да, можно одним проходом сразу и генерировать и подсчитывать все,\n",
    "        #      но когда я написал код - я посчитал его некрасивым. Поэтому вот так.\n",
    "        #      Пункт дзена № 1 - \"Beautiful is better than ugly.\"\n",
    "        #      А если нужна оптимальность - писал бы на Сях. Это же Python!\n",
    "        \n",
    "        # P.P.S Ну или пните меня и скажите переделать :)\n",
    "        \n",
    "        rc = 1 # Инкремент количетсва побед/поражений (result count increment)\n",
    "        dc = 0 # Инкремент количества ничьих (draws count increment)\n",
    "        wp = 3 # Инкремент победных очков (win points increment)\n",
    "        lp = 0 # Инкремент очков поражения (lose points increment)\n",
    "        \n",
    "        # Проверка на ничью - если обнаружена ничья - сбросим инкременты\n",
    "        # В n-мерном случае - хотя бы 2 команды на 1 месте - ничья для всех\n",
    "        for i in range(len(self.teams)):\n",
    "            if (self.bolls[i] == win_bolls and i != win_id):\n",
    "                rc, dc, wp, lp = (0, 1, 1, 1)\n",
    "                break;\n",
    "        \n",
    "        # Окончательно подводим итоги и записываем в объекты команд результаты\n",
    "        for i, team in enumerate(self.teams):\n",
    "            team.bolls += self.bolls[i]\n",
    "            for enemy in self.teams:\n",
    "                if (not (enemy is team)):\n",
    "                    enemy.falls += self.bolls[i]\n",
    "            key = tuple([team.name for team in self.teams])\n",
    "            team.matches[key] = self\n",
    "            if (i == win_id):\n",
    "                team.wins += rc;\n",
    "                team.points += wp;\n",
    "                team.draws += dc;\n",
    "            else:\n",
    "                team.loses += rc;\n",
    "                team.points += lp;\n",
    "                team.draws += dc;\n",
    "        \n",
    "        if (is_printable): # Опционально, конечно, но пусть будет\n",
    "            print(self)\n",
    "        \n",
    "    # Для удобства - переопределим-ка функцию приведения к строке (для печати)\n",
    "    def __str__(self):\n",
    "        teams_line = \"\"\n",
    "        bolls_line = \"\"\n",
    "        for i, team in enumerate(self.teams):\n",
    "            teams_line += \"%17s\" % team.name\n",
    "            bolls_line += str(self.bolls[i])\n",
    "            if (i+1 != len(self.teams)):\n",
    "                teams_line += \" - \"\n",
    "                bolls_line += \":\"\n",
    "        return teams_line + \" \\t \" + bolls_line\n",
    "    \n",
    "    def display(self):\n",
    "        print(self)"
   ]
  },
  {
   "cell_type": "markdown",
   "metadata": {},
   "source": [
    "## Class ChampionCup\n",
    "\n",
    "Класс, реализующий структуру проведения матчей между командами.  \n",
    "Хранит в себе ссылки на команды, матчи и вообще все, что требуется.\n",
    "И реализует ко всему этому удобный доступ."
   ]
  },
  {
   "cell_type": "code",
   "execution_count": 4,
   "metadata": {},
   "outputs": [],
   "source": [
    "class ChampionCup: # Только для случая двух команд на матч\n",
    "    \n",
    "    # Для воспроизводимости результатов задаем random_seed\n",
    "    def __init__(self, teams, random_seed = 0):\n",
    "        self.random_seed = random_seed\n",
    "        self.teams = teams\n",
    "        # Убьем двух зайцев - очистим параметры команд перед чемпионатом\n",
    "        # И потеряем немного памяти на дублирование,\n",
    "        # но зато обеспечим удобный доступ по имени команды\n",
    "        self.d = {team.name: team.clear() for team in teams}\n",
    "        \n",
    "    # Собственно обеспечиваем удобный доступ к данным по команде и матчам\n",
    "    def __getitem__(self, key):\n",
    "        if (type(key) == type(\"\") and key in self.d):\n",
    "            return self.d[key]\n",
    "        elif key[0] in self.d:\n",
    "            if (key in self.d[key[0]].matches):\n",
    "                return self.d[key[0]].matches[key]\n",
    "            elif ((key[1], key[0]) in self.d[key[0]].matches):\n",
    "                return self.d[key[0]].matches[(key[1], key[0])]\n",
    "        return None\n",
    "    \n",
    "    # Начинаем чемпионат (каждый с каждым - для 2-х команд)\n",
    "    def start(self, is_printable = False):\n",
    "        random.seed(self.random_seed)\n",
    "        for i, team1 in enumerate(self.teams):\n",
    "            for j, team2 in enumerate(self.teams):\n",
    "                if (i < j):\n",
    "                    Match([team1, team2]).play(is_printable)\n",
    "        return self\n",
    "    \n",
    "    # Вывод турнирной таблицы (можно допилить вывод по передаваемому шаблону)\n",
    "    def display(self):\n",
    "        copy_teams = self.teams[:]\n",
    "        copy_teams.sort(reverse=True)\n",
    "        template = \"%s \\t %17s\\t %s\\t %s\\t %s\\t %s\\t %s\\t %s\"\n",
    "        print(template % (\"#\", \"Team\", \"Points\", \"Wins\", \"Loses\", \"Draws\", \"Goals\", \"Fails\"))\n",
    "        for i, team in enumerate(copy_teams):\n",
    "            print(i+1, \"\\t\", team)"
   ]
  },
  {
   "cell_type": "markdown",
   "metadata": {},
   "source": [
    "## Объявим список команд-участниц:"
   ]
  },
  {
   "cell_type": "code",
   "execution_count": 5,
   "metadata": {},
   "outputs": [
    {
     "data": {
      "text/plain": [
       "[Team: ManchesterDivided {Points: 0, Wins: 0, Loses: 0, Draws: 0, Goals: 0, Fails: 0},\n",
       " Team:    KinderPenguins {Points: 0, Wins: 0, Loses: 0, Draws: 0, Goals: 0, Fails: 0},\n",
       " Team:    GenuinoForever {Points: 0, Wins: 0, Loses: 0, Draws: 0, Goals: 0, Fails: 0},\n",
       " Team:      WoodKidsIron {Points: 0, Wins: 0, Loses: 0, Draws: 0, Goals: 0, Fails: 0},\n",
       " Team:    WinterIsComing {Points: 0, Wins: 0, Loses: 0, Draws: 0, Goals: 0, Fails: 0}]"
      ]
     },
     "execution_count": 5,
     "metadata": {},
     "output_type": "execute_result"
    }
   ],
   "source": [
    "our_teams = [\n",
    "    Team(\"ManchesterDivided\"), \n",
    "    Team(\"KinderPenguins\"), \n",
    "    Team(\"GenuinoForever\"),\n",
    "    Team(\"WoodKidsIron\"),\n",
    "    Team(\"WinterIsComing\")\n",
    "]\n",
    "\n",
    "our_teams # Посмотрим на содержимое"
   ]
  },
  {
   "cell_type": "markdown",
   "metadata": {},
   "source": [
    "## Начинаем турнир:"
   ]
  },
  {
   "cell_type": "code",
   "execution_count": 6,
   "metadata": {},
   "outputs": [
    {
     "name": "stdout",
     "output_type": "stream",
     "text": [
      "ManchesterDivided -    KinderPenguins \t 2:9\n",
      "ManchesterDivided -    GenuinoForever \t 1:4\n",
      "ManchesterDivided -      WoodKidsIron \t 1:7\n",
      "ManchesterDivided -    WinterIsComing \t 7:7\n",
      "   KinderPenguins -    GenuinoForever \t 6:3\n",
      "   KinderPenguins -      WoodKidsIron \t 1:7\n",
      "   KinderPenguins -    WinterIsComing \t 0:6\n",
      "   GenuinoForever -      WoodKidsIron \t 6:9\n",
      "   GenuinoForever -    WinterIsComing \t 0:7\n",
      "     WoodKidsIron -    WinterIsComing \t 4:3\n"
     ]
    }
   ],
   "source": [
    "cup = ChampionCup(our_teams, random_seed = 1).start(is_printable = True)"
   ]
  },
  {
   "cell_type": "markdown",
   "metadata": {},
   "source": [
    "## Выводим всю необходимую информацию в удобном виде:"
   ]
  },
  {
   "cell_type": "code",
   "execution_count": 7,
   "metadata": {},
   "outputs": [
    {
     "name": "stdout",
     "output_type": "stream",
     "text": [
      "# \t              Team\t Points\t Wins\t Loses\t Draws\t Goals\t Fails\n",
      "1 \t      WoodKidsIron\t 12\t 4\t 0\t 0\t 27\t 11\n",
      "2 \t    WinterIsComing\t 7\t 2\t 1\t 1\t 23\t 11\n",
      "3 \t    KinderPenguins\t 6\t 2\t 2\t 0\t 16\t 18\n",
      "4 \t    GenuinoForever\t 3\t 1\t 3\t 0\t 13\t 23\n",
      "5 \t ManchesterDivided\t 1\t 0\t 3\t 1\t 11\t 27\n"
     ]
    }
   ],
   "source": [
    "cup.display()"
   ]
  },
  {
   "cell_type": "markdown",
   "metadata": {},
   "source": [
    "## Выводим статистику по команде:"
   ]
  },
  {
   "cell_type": "code",
   "execution_count": 8,
   "metadata": {},
   "outputs": [
    {
     "name": "stdout",
     "output_type": "stream",
     "text": [
      "Team:    GenuinoForever {Points: 3, Wins: 1, Loses: 3, Draws: 0, Goals: 13, Fails: 23} \n",
      "\n",
      "ManchesterDivided -    GenuinoForever \t 1:4\n",
      "   KinderPenguins -    GenuinoForever \t 6:3\n",
      "   GenuinoForever -      WoodKidsIron \t 6:9\n",
      "   GenuinoForever -    WinterIsComing \t 0:7\n"
     ]
    }
   ],
   "source": [
    "cup[\"GenuinoForever\"].display()"
   ]
  },
  {
   "cell_type": "code",
   "execution_count": 9,
   "metadata": {},
   "outputs": [],
   "source": [
    "def find_team():\n",
    "    tn = input(\"Input team name: \")\n",
    "    try:\n",
    "        cup[tn].display()\n",
    "    except:\n",
    "        print(\"No team like '%s' in cup dictionary!\" % tn)"
   ]
  },
  {
   "cell_type": "markdown",
   "metadata": {},
   "source": [
    "## Выводим статистику по матчу между командами:"
   ]
  },
  {
   "cell_type": "code",
   "execution_count": 10,
   "metadata": {},
   "outputs": [
    {
     "name": "stdout",
     "output_type": "stream",
     "text": [
      "ManchesterDivided -    GenuinoForever \t 1:4\n"
     ]
    }
   ],
   "source": [
    "cup[('GenuinoForever', 'ManchesterDivided')].display()"
   ]
  },
  {
   "cell_type": "code",
   "execution_count": 11,
   "metadata": {},
   "outputs": [
    {
     "name": "stdout",
     "output_type": "stream",
     "text": [
      "ManchesterDivided -    GenuinoForever \t 1:4\n"
     ]
    }
   ],
   "source": [
    "cup[('ManchesterDivided', 'GenuinoForever')].display()"
   ]
  },
  {
   "cell_type": "code",
   "execution_count": 12,
   "metadata": {},
   "outputs": [],
   "source": [
    "def find_match():\n",
    "    tn1 = input(\"Input team #1 name: \")\n",
    "    tn2 = input(\"Input team #2 name: \")\n",
    "    try:\n",
    "        cup[(tn1, tn2)].display()\n",
    "    except:\n",
    "        print(\"No teams like '%s' or '%s' in cup dictionary!\" % (tn1, tn2))"
   ]
  },
  {
   "cell_type": "markdown",
   "metadata": {},
   "source": [
    "## Блок тестирования:"
   ]
  },
  {
   "cell_type": "code",
   "execution_count": 13,
   "metadata": {},
   "outputs": [
    {
     "name": "stdout",
     "output_type": "stream",
     "text": [
      "Input team name: Hello\n",
      "No team like 'Hello' in cup dictionary!\n"
     ]
    }
   ],
   "source": [
    "find_team()"
   ]
  },
  {
   "cell_type": "code",
   "execution_count": 14,
   "metadata": {},
   "outputs": [
    {
     "name": "stdout",
     "output_type": "stream",
     "text": [
      "Input team name: WinterIsComing\n",
      "Team:    WinterIsComing {Points: 7, Wins: 2, Loses: 1, Draws: 1, Goals: 23, Fails: 11} \n",
      "\n",
      "ManchesterDivided -    WinterIsComing \t 7:7\n",
      "   KinderPenguins -    WinterIsComing \t 0:6\n",
      "   GenuinoForever -    WinterIsComing \t 0:7\n",
      "     WoodKidsIron -    WinterIsComing \t 4:3\n"
     ]
    }
   ],
   "source": [
    "find_team()"
   ]
  },
  {
   "cell_type": "code",
   "execution_count": 15,
   "metadata": {},
   "outputs": [
    {
     "name": "stdout",
     "output_type": "stream",
     "text": [
      "Input team #1 name: KinderPenguins\n",
      "Input team #2 name: ManchesterDivided\n",
      "ManchesterDivided -    KinderPenguins \t 2:9\n"
     ]
    }
   ],
   "source": [
    "find_match()"
   ]
  },
  {
   "cell_type": "code",
   "execution_count": 16,
   "metadata": {},
   "outputs": [
    {
     "name": "stdout",
     "output_type": "stream",
     "text": [
      "Input team #1 name: ManchesterDivided\n",
      "Input team #2 name: GenuinoUNO\n",
      "No teams like 'ManchesterDivided' or 'GenuinoUNO' in cup dictionary!\n"
     ]
    }
   ],
   "source": [
    "find_match()"
   ]
  },
  {
   "cell_type": "code",
   "execution_count": null,
   "metadata": {},
   "outputs": [],
   "source": []
  }
 ],
 "metadata": {
  "kernelspec": {
   "display_name": "Python 3",
   "language": "python",
   "name": "python3"
  },
  "language_info": {
   "codemirror_mode": {
    "name": "ipython",
    "version": 3
   },
   "file_extension": ".py",
   "mimetype": "text/x-python",
   "name": "python",
   "nbconvert_exporter": "python",
   "pygments_lexer": "ipython3",
   "version": "3.6.1"
  }
 },
 "nbformat": 4,
 "nbformat_minor": 2
}
