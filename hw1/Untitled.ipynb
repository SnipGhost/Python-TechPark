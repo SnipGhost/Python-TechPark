{
 "cells": [
  {
   "cell_type": "markdown",
   "metadata": {},
   "source": [
    "Напишите программу, которая выводит на экран числа от 1 до 100. При этом вместо чисел, кратных трем, программа должна выводить слово Fizz, а вместо чисел, кратных пяти — слово Buzz. Если число кратно пятнадцати, то программа должна выводить слово FizzBuzz."
   ]
  },
  {
   "cell_type": "code",
   "execution_count": 1,
   "metadata": {
    "collapsed": true
   },
   "outputs": [],
   "source": [
    "COUNT = 28"
   ]
  },
  {
   "cell_type": "code",
   "execution_count": 2,
   "metadata": {},
   "outputs": [
    {
     "name": "stdout",
     "output_type": "stream",
     "text": [
      "1\n",
      "2\n",
      "Fizz\n",
      "4\n",
      "Buzz\n",
      "Fizz\n",
      "7\n",
      "8\n",
      "Fizz\n",
      "Buzz\n",
      "11\n",
      "Fizz\n",
      "13\n",
      "14\n",
      "FizzBuzz\n",
      "16\n",
      "17\n",
      "Fizz\n",
      "19\n",
      "Buzz\n",
      "Fizz\n",
      "22\n",
      "23\n",
      "Fizz\n",
      "Buzz\n",
      "26\n",
      "Fizz\n",
      "\n"
     ]
    }
   ],
   "source": [
    "s = \"\"\n",
    "for i in range(1, COUNT):\n",
    "    if i % 3 == 0:\n",
    "        s += 'Fizz'\n",
    "    if i % 5 == 0:\n",
    "        s += 'Buzz'\n",
    "    if (i % 3 != 0) and (i % 5 != 0):\n",
    "        s += str(i) + '\\n'\n",
    "    else:\n",
    "        s += '\\n'\n",
    "print(s)"
   ]
  },
  {
   "cell_type": "code",
   "execution_count": 3,
   "metadata": {},
   "outputs": [
    {
     "name": "stdout",
     "output_type": "stream",
     "text": [
      "1\n",
      "2\n",
      "Fizz\n",
      "4\n",
      "Buzz\n",
      "Fizz\n",
      "7\n",
      "8\n",
      "Fizz\n",
      "Buzz\n",
      "11\n",
      "Fizz\n",
      "13\n",
      "14\n",
      "FizzBuzz\n",
      "16\n",
      "17\n",
      "Fizz\n",
      "19\n",
      "Buzz\n",
      "Fizz\n",
      "22\n",
      "23\n",
      "Fizz\n",
      "Buzz\n",
      "26\n",
      "Fizz\n"
     ]
    }
   ],
   "source": [
    "a = [0]*(COUNT+1)\n",
    "for i in range(1, COUNT):\n",
    "    if i % 3 == 0:\n",
    "        a[i] = 'Fizz'\n",
    "    if i % 5 == 0:\n",
    "        a[i] = 'Buzz'\n",
    "    if (i % 3 == 0) and (i % 5 == 0):\n",
    "        a[i] = 'FizzBuzz'\n",
    "    if (a[i] == 0):\n",
    "        a[i] = i\n",
    "for i in range(1, COUNT):\n",
    "    print(a[i])"
   ]
  },
  {
   "cell_type": "code",
   "execution_count": 4,
   "metadata": {},
   "outputs": [
    {
     "name": "stdout",
     "output_type": "stream",
     "text": [
      "1\n",
      "2\n",
      "Fizz\n",
      "4\n",
      "Buzz\n",
      "Fizz\n",
      "7\n",
      "8\n",
      "Fizz\n",
      "Buzz\n",
      "11\n",
      "Fizz\n",
      "13\n",
      "14\n",
      "FizzBuzz\n",
      "16\n",
      "17\n",
      "Fizz\n",
      "19\n",
      "Buzz\n",
      "Fizz\n",
      "22\n",
      "23\n",
      "Fizz\n",
      "Buzz\n",
      "26\n",
      "Fizz\n"
     ]
    }
   ],
   "source": [
    "# Попробовал придумать что-то не такое стандартное:\n",
    "\n",
    "for i in range(1, COUNT):\n",
    "    if i % 3 == 0:\n",
    "        print('Fizz', end='')\n",
    "    if i % 5 == 0:\n",
    "        print('Buzz', end='')\n",
    "    if (i % 3 != 0) and (i % 5 != 0):\n",
    "        print(i)\n",
    "    else:\n",
    "        print()"
   ]
  },
  {
   "cell_type": "code",
   "execution_count": 5,
   "metadata": {},
   "outputs": [
    {
     "name": "stdout",
     "output_type": "stream",
     "text": [
      "1\n",
      "2\n",
      "Fizz\n",
      "4\n",
      "Buzz\n",
      "Fizz\n",
      "7\n",
      "8\n",
      "Fizz\n",
      "Buzz\n",
      "11\n",
      "Fizz\n",
      "13\n",
      "14\n",
      "FizzBuzz\n",
      "16\n",
      "17\n",
      "Fizz\n",
      "19\n",
      "Buzz\n",
      "Fizz\n",
      "22\n",
      "23\n",
      "Fizz\n",
      "Buzz\n",
      "26\n",
      "Fizz\n"
     ]
    }
   ],
   "source": [
    "a = [None, None, \"Fizz\", \n",
    "     None, \"Buzz\", \"Fizz\", \n",
    "     None, None, \"Fizz\", \n",
    "     \"Buzz\", None, \"Fizz\", \n",
    "     None, None, \"FizzBuzz\"]\n",
    "\n",
    "for i in range(1, COUNT):\n",
    "    r = a[i%15-1]\n",
    "    if (r):\n",
    "        print(r)\n",
    "    else:\n",
    "        print(i)"
   ]
  },
  {
   "cell_type": "markdown",
   "metadata": {},
   "source": [
    "If we list all the natural numbers below 10 that are multiples of 3 or 5, we get 3, 5, 6 and 9. The sum of these multiples is 23.\n",
    "\n",
    "Find the sum of all the multiples of 3 or 5 below 1000."
   ]
  },
  {
   "cell_type": "code",
   "execution_count": 6,
   "metadata": {},
   "outputs": [
    {
     "name": "stdout",
     "output_type": "stream",
     "text": [
      "233168\n"
     ]
    }
   ],
   "source": [
    "s = 0\n",
    "for i in range(1000):\n",
    "    if (i % 3 == 0) or (i % 5 == 0):\n",
    "        s += i\n",
    "print(s)"
   ]
  },
  {
   "cell_type": "markdown",
   "metadata": {},
   "source": [
    "Each new term in the Fibonacci sequence is generated by adding the previous two terms. By starting with 1 and 2, the first 10 terms will be:\n",
    "\n",
    "1, 2, 3, 5, 8, 13, 21, 34, 55, 89, ...\n",
    "\n",
    "By considering the terms in the Fibonacci sequence whose values do not exceed four million, find the sum of the even-valued terms."
   ]
  },
  {
   "cell_type": "code",
   "execution_count": 7,
   "metadata": {},
   "outputs": [
    {
     "name": "stdout",
     "output_type": "stream",
     "text": [
      "4613732\n"
     ]
    }
   ],
   "source": [
    "last, current, s = 1, 1, 0\n",
    "MAXNUM = 4000000\n",
    "while last+current <= MAXNUM:\n",
    "    last, current = current, last + current\n",
    "    if current % 2 == 0:\n",
    "        s += current\n",
    "print(s)"
   ]
  },
  {
   "cell_type": "markdown",
   "metadata": {},
   "source": [
    "A palindromic number reads the same both ways. The largest palindrome made from the product of two 2-digit numbers is 9009 = 91 × 99.\n",
    "\n",
    "Find the largest palindrome made from the product of two distinct 3-digit numbers."
   ]
  },
  {
   "cell_type": "code",
   "execution_count": 8,
   "metadata": {},
   "outputs": [
    {
     "name": "stdout",
     "output_type": "stream",
     "text": [
      "836 836 698896\n"
     ]
    }
   ],
   "source": [
    "def isPalindromic(value):\n",
    "    s = str(value)\n",
    "    return (s == s[::-1])\n",
    "\n",
    "i, j, c = 999, 999, 0\n",
    "while i > 100 and j > 100:\n",
    "    if (isPalindromic(i*j)):\n",
    "        break;\n",
    "    if (c % 2 == 0):\n",
    "        i -= 1\n",
    "    else:\n",
    "        j -= 1\n",
    "    c += 1\n",
    "print(i, j, i*j)"
   ]
  },
  {
   "cell_type": "code",
   "execution_count": null,
   "metadata": {
    "collapsed": true
   },
   "outputs": [],
   "source": []
  }
 ],
 "metadata": {
  "kernelspec": {
   "display_name": "Python 3",
   "language": "python",
   "name": "python3"
  },
  "language_info": {
   "codemirror_mode": {
    "name": "ipython",
    "version": 3
   },
   "file_extension": ".py",
   "mimetype": "text/x-python",
   "name": "python",
   "nbconvert_exporter": "python",
   "pygments_lexer": "ipython3",
   "version": "3.6.1"
  }
 },
 "nbformat": 4,
 "nbformat_minor": 2
}
